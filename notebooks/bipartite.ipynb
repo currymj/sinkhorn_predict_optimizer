{
 "cells": [
  {
   "cell_type": "code",
   "execution_count": 1,
   "metadata": {},
   "outputs": [],
   "source": [
    "%matplotlib inline\n",
    "import torch\n",
    "import numpy as np\n",
    "import matplotlib.pyplot as plt\n",
    "import torch.nn.functional as f\n",
    "import torch.nn as nn\n",
    "import torch.optim as optim"
   ]
  },
  {
   "cell_type": "markdown",
   "metadata": {},
   "source": [
    "# General approach\n",
    "\n",
    "The goal is to find a maximum-weight bipartite matching where the cost function is unknown and depends on features of the inputs. Additionally, we might want a matching that trades off optimality and diversity by way of entropy regularization -- conveniently, this is what Sinkhorn does.\n",
    "\n",
    "We have elements from the two sides $i, j$ with features $u_i, v_j$, the true cost is some $C^*_{ij}$, and we want to learn our own $C_{ij} = f(u_i, v_j; \\theta)$. In one interesting case many of the $C^*_{ij}$ may be 0, meaning these edges do not exist and should not be matched.\n",
    "\n",
    "Two approaches can be taken:\n",
    "\n",
    "1. Two-stage approach\n",
    "\n",
    "The two-stage approach is simple. One simply learns $f$ to predict the true observed $C^*_{ij}$ as well as possible, and then make matches based on the predictions of $f$. This approach should work well if $f$ can successfully learn the correct matching based on the features. There are some experimental details here -- which information exactly does $f$ get to observe -- do we get to see pairs of unmatched nodes, or only the actual matches made? $f$ here can be any learner.\n",
    "\n",
    "2. Predict-and-optimize approach\n",
    "\n",
    "The idea here is to still have $f$ output cost functions, but then pass these into a differentiable surrogate for the matching (Sinkhorn), and maximize the total weight of the observed matching. We expect this approach to win if $f$ cannot make perfect predictions. $f$ here must be a gradient based approach, i.e. a (shallow) NN."
   ]
  },
  {
   "cell_type": "markdown",
   "metadata": {},
   "source": [
    "# Some notes\n",
    "\n",
    "One advantage of this compared to the Wilder et al paper is that for a problem this simple, Sinkhorn is much nicer to deal with than their Gurobi nightmare or even qpth, and can stay on the GPU."
   ]
  },
  {
   "cell_type": "markdown",
   "metadata": {},
   "source": [
    "## first steps\n",
    "\n",
    "Consider the case where we either have edges or don't, and want to predict that from features only, in order to choose a maximum-weight matching."
   ]
  },
  {
   "cell_type": "code",
   "execution_count": 2,
   "metadata": {},
   "outputs": [],
   "source": [
    "dim = 10\n",
    "N = 100\n",
    "u_feats = torch.rand(N, dim)\n",
    "v_feats = torch.rand(N, dim)"
   ]
  },
  {
   "cell_type": "code",
   "execution_count": 3,
   "metadata": {},
   "outputs": [],
   "source": [
    "scores_mat = u_feats @ (v_feats.t())"
   ]
  },
  {
   "cell_type": "code",
   "execution_count": 4,
   "metadata": {},
   "outputs": [],
   "source": [
    "edge_mat = (scores_mat > 2.5).float()"
   ]
  },
  {
   "cell_type": "markdown",
   "metadata": {},
   "source": [
    "### training, batching, etc.\n",
    "\n",
    "first just train on dataset to get architecture up"
   ]
  },
  {
   "cell_type": "code",
   "execution_count": 5,
   "metadata": {},
   "outputs": [
    {
     "data": {
      "text/plain": [
       "Sequential(\n",
       "  (0): Linear(in_features=20, out_features=128, bias=True)\n",
       "  (1): ReLU()\n",
       "  (2): Linear(in_features=128, out_features=128, bias=True)\n",
       "  (3): ReLU()\n",
       "  (4): Linear(in_features=128, out_features=1, bias=True)\n",
       ")"
      ]
     },
     "execution_count": 5,
     "metadata": {},
     "output_type": "execute_result"
    }
   ],
   "source": [
    "model = nn.Sequential(*[nn.Linear(dim*2, 128), nn.ReLU(), nn.Linear(128, 128), nn.ReLU(), nn.Linear(128, 1)])\n",
    "model.train()"
   ]
  },
  {
   "cell_type": "code",
   "execution_count": 6,
   "metadata": {},
   "outputs": [],
   "source": [
    "optimizer = optim.Adam(model.parameters())\n",
    "criterion = nn.BCEWithLogitsLoss()"
   ]
  },
  {
   "cell_type": "code",
   "execution_count": 7,
   "metadata": {},
   "outputs": [],
   "source": [
    "def data_format(u, v, edges):\n",
    "    for i in range(u.shape[0]):\n",
    "        for j in range(v.shape[0]):\n",
    "            yield torch.cat((u[i,:], v[j,:])), edges[i, j]"
   ]
  },
  {
   "cell_type": "code",
   "execution_count": 8,
   "metadata": {},
   "outputs": [],
   "source": [
    "results = list(data_format(u_feats, v_feats, edge_mat))\n",
    "vecs = torch.stack([x[0] for x in results])\n",
    "edges = torch.stack([x[1] for x in results]).view(-1,1)"
   ]
  },
  {
   "cell_type": "code",
   "execution_count": 9,
   "metadata": {},
   "outputs": [],
   "source": [
    "def trainbatch(model, criterion, optimizer, vecs, edges, device='cuda'):\n",
    "    model.train()\n",
    "    vecs.to(device)\n",
    "    edges.to(device)\n",
    "    model.zero_grad()\n",
    "    out = model(vecs)\n",
    "    loss = criterion(out, edges)\n",
    "    save_loss = loss.item()\n",
    "    loss.backward()\n",
    "    optimizer.step()\n",
    "    return loss.item()\n",
    "    "
   ]
  },
  {
   "cell_type": "code",
   "execution_count": 10,
   "metadata": {},
   "outputs": [
    {
     "data": {
      "text/plain": [
       "[<matplotlib.lines.Line2D at 0x7faa48658650>]"
      ]
     },
     "execution_count": 10,
     "metadata": {},
     "output_type": "execute_result"
    },
    {
     "data": {
      "image/png": "[encoded data removed]",
      "text/plain": [
       "<Figure size 432x288 with 1 Axes>"
      ]
     },
     "metadata": {
      "needs_background": "light"
     },
     "output_type": "display_data"
    }
   ],
   "source": [
    "losses = []\n",
    "for i in range(1000):\n",
    "    loss = trainbatch(model, criterion, optimizer, vecs, edges)\n",
    "    losses.append(loss)\n",
    "plt.plot(losses)"
   ]
  },
  {
   "cell_type": "markdown",
   "metadata": {},
   "source": [
    "## optimization problem\n",
    "\n",
    "given our trained model, we want the scaffolding to go from a bunch of features to a bipartite matching solution"
   ]
  },
  {
   "cell_type": "code",
   "execution_count": 11,
   "metadata": {},
   "outputs": [],
   "source": [
    "def predicted_edges_to_matrix(edges):\n",
    "    dim = int(np.sqrt(edges.shape[0]))\n",
    "    return edges.view(dim, dim)"
   ]
  },
  {
   "cell_type": "code",
   "execution_count": 12,
   "metadata": {},
   "outputs": [
    {
     "data": {
      "text/plain": [
       "tensor([[0., 0., 0.,  ..., 0., 0., 0.],\n",
       "        [0., 0., 0.,  ..., 0., 0., 0.],\n",
       "        [1., 1., 1.,  ..., 1., 1., 1.],\n",
       "        ...,\n",
       "        [0., 0., 1.,  ..., 1., 1., 1.],\n",
       "        [0., 0., 0.,  ..., 0., 0., 1.],\n",
       "        [0., 0., 0.,  ..., 1., 0., 1.]])"
      ]
     },
     "execution_count": 12,
     "metadata": {},
     "output_type": "execute_result"
    }
   ],
   "source": [
    "edge_mat"
   ]
  },
  {
   "cell_type": "code",
   "execution_count": 13,
   "metadata": {},
   "outputs": [
    {
     "data": {
      "text/plain": [
       "tensor(True)"
      ]
     },
     "execution_count": 13,
     "metadata": {},
     "output_type": "execute_result"
    }
   ],
   "source": [
    "torch.all(predicted_edges_to_matrix(edges) == edge_mat)"
   ]
  },
  {
   "cell_type": "markdown",
   "metadata": {},
   "source": [
    "## bipartite matching\n",
    "\n",
    "given a cost (edge is special case) matrix, find the maximum weight bipartite matching at test time, optionally with an entropy penalty. Let's do this with Gurobi. Note Gurobi can't handle entropy in the objective!"
   ]
  },
  {
   "cell_type": "code",
   "execution_count": 14,
   "metadata": {},
   "outputs": [],
   "source": [
    "import gurobipy as gp\n",
    "\n",
    "def opt_match(cost_matrix):\n",
    "    # this will have to be modified to handle multiple similar items (integer not binary)\n",
    "    model = gp.Model()\n",
    "    x = {}\n",
    "    l_n = cost_matrix.shape[0]\n",
    "    r_n = cost_matrix.shape[1]\n",
    "    for i in range(l_n):\n",
    "        for j in range(r_n):\n",
    "            x[i, j] = model.addVar(vtype=gp.GRB.BINARY, name=f'x_{i}_{j}')\n",
    "    model.update()\n",
    "    match_once_constraints = []\n",
    "    for i in range(l_n):\n",
    "        match_once_constraints.append(\n",
    "            model.addConstr(gp.quicksum(x[i, j] for j in range(r_n)) <= 1))\n",
    "    for j in range(r_n):\n",
    "        match_once_constraints.append(\n",
    "            model.addConstr(gp.quicksum(x[i, j] for i in range(l_n)) <= 1))\n",
    "    obj = gp.QuadExpr()\n",
    "    for i in range(l_n):\n",
    "        for j in range(r_n):\n",
    "            obj += x[i,j] * cost_matrix[i,j].item()\n",
    "    model.setObjective(obj, gp.GRB.MAXIMIZE)\n",
    "    model.optimize()\n",
    "    model.update()\n",
    "    \n",
    "    result = torch.zeros_like(cost_matrix)\n",
    "    for i in range(l_n):\n",
    "        for j in range(r_n):\n",
    "            result[i, j] = x[i,j].x\n",
    "    return result\n",
    "    "
   ]
  },
  {
   "cell_type": "code",
   "execution_count": 15,
   "metadata": {},
   "outputs": [
    {
     "name": "stdout",
     "output_type": "stream",
     "text": [
      "Academic license - for non-commercial use only\n",
      "Optimize a model with 200 rows, 10000 columns and 20000 nonzeros\n",
      "Variable types: 0 continuous, 10000 integer (10000 binary)\n",
      "Coefficient statistics:\n",
      "  Matrix range     [1e+00, 1e+00]\n",
      "  Objective range  [1e+00, 1e+00]\n",
      "  Bounds range     [1e+00, 1e+00]\n",
      "  RHS range        [1e+00, 1e+00]\n",
      "Found heuristic solution: objective 90.0000000\n",
      "Presolve removed 19 rows and 6135 columns\n",
      "Presolve time: 0.02s\n",
      "Presolved: 181 rows, 3865 columns, 7730 nonzeros\n",
      "Variable types: 0 continuous, 3865 integer (3865 binary)\n",
      "\n",
      "Root relaxation: objective 9.400000e+01, 343 iterations, 0.00 seconds\n",
      "\n",
      "    Nodes    |    Current Node    |     Objective Bounds      |     Work\n",
      " Expl Unexpl |  Obj  Depth IntInf | Incumbent    BestBd   Gap | It/Node Time\n",
      "\n",
      "*    0     0               0      94.0000000   94.00000  0.00%     -    0s\n",
      "\n",
      "Explored 0 nodes (343 simplex iterations) in 0.03 seconds\n",
      "Thread count was 8 (of 8 available processors)\n",
      "\n",
      "Solution count 2: 94 90 \n",
      "\n",
      "Optimal solution found (tolerance 1.00e-04)\n",
      "Best objective 9.400000000000e+01, best bound 9.400000000000e+01, gap 0.0000%\n"
     ]
    }
   ],
   "source": [
    "result = opt_match(edge_mat)"
   ]
  },
  {
   "cell_type": "code",
   "execution_count": 16,
   "metadata": {},
   "outputs": [],
   "source": [
    "score = torch.sum(result * edge_mat)"
   ]
  },
  {
   "cell_type": "markdown",
   "metadata": {},
   "source": [
    "random model should make wrong predictions leading to poor performance"
   ]
  },
  {
   "cell_type": "code",
   "execution_count": 17,
   "metadata": {},
   "outputs": [
    {
     "data": {
      "text/plain": [
       "Sequential(\n",
       "  (0): Linear(in_features=20, out_features=128, bias=True)\n",
       "  (1): ReLU()\n",
       "  (2): Linear(in_features=128, out_features=128, bias=True)\n",
       "  (3): ReLU()\n",
       "  (4): Linear(in_features=128, out_features=1, bias=True)\n",
       ")"
      ]
     },
     "execution_count": 17,
     "metadata": {},
     "output_type": "execute_result"
    }
   ],
   "source": [
    "model = nn.Sequential(*[nn.Linear(dim*2, 128), nn.ReLU(), nn.Linear(128, 128), nn.ReLU(), nn.Linear(128, 1)])\n",
    "model.eval()"
   ]
  },
  {
   "cell_type": "code",
   "execution_count": 19,
   "metadata": {},
   "outputs": [],
   "source": [
    "predicted_costs = (torch.sigmoid(model(vecs))).detach()"
   ]
  },
  {
   "cell_type": "code",
   "execution_count": 20,
   "metadata": {},
   "outputs": [
    {
     "name": "stdout",
     "output_type": "stream",
     "text": [
      "Optimize a model with 200 rows, 10000 columns and 20000 nonzeros\n",
      "Variable types: 0 continuous, 10000 integer (10000 binary)\n",
      "Coefficient statistics:\n",
      "  Matrix range     [1e+00, 1e+00]\n",
      "  Objective range  [5e-01, 5e-01]\n",
      "  Bounds range     [1e+00, 1e+00]\n",
      "  RHS range        [1e+00, 1e+00]\n",
      "Found heuristic solution: objective 49.2632437\n",
      "Presolve time: 0.01s\n",
      "Presolved: 200 rows, 10000 columns, 20000 nonzeros\n",
      "Variable types: 0 continuous, 10000 integer (10000 binary)\n",
      "\n",
      "Root relaxation: objective 4.964255e+01, 627 iterations, 0.01 seconds\n",
      "\n",
      "    Nodes    |    Current Node    |     Objective Bounds      |     Work\n",
      " Expl Unexpl |  Obj  Depth IntInf | Incumbent    BestBd   Gap | It/Node Time\n",
      "\n",
      "*    0     0               0      49.6425549   49.64255  0.00%     -    0s\n",
      "\n",
      "Explored 0 nodes (627 simplex iterations) in 0.04 seconds\n",
      "Thread count was 8 (of 8 available processors)\n",
      "\n",
      "Solution count 2: 49.6426 49.2632 \n",
      "\n",
      "Optimal solution found (tolerance 1.00e-04)\n",
      "Best objective 4.964255493879e+01, best bound 4.964255493879e+01, gap 0.0000%\n"
     ]
    }
   ],
   "source": [
    "predicted_result = opt_match(predicted_edges_to_matrix(predicted_costs))"
   ]
  },
  {
   "cell_type": "code",
   "execution_count": 21,
   "metadata": {},
   "outputs": [
    {
     "data": {
      "text/plain": [
       "tensor(40.)"
      ]
     },
     "execution_count": 21,
     "metadata": {},
     "output_type": "execute_result"
    }
   ],
   "source": [
    "torch.sum(predicted_result * edge_mat)"
   ]
  },
  {
   "cell_type": "code",
   "execution_count": 82,
   "metadata": {},
   "outputs": [],
   "source": [
    "predicted_edges = (f.sigmoid(model(vecs)) > .5).float().detach()"
   ]
  },
  {
   "cell_type": "code",
   "execution_count": 83,
   "metadata": {},
   "outputs": [
    {
     "name": "stdout",
     "output_type": "stream",
     "text": [
      "Optimize a model with 200 rows, 10000 columns and 20000 nonzeros\n",
      "Variable types: 0 continuous, 10000 integer (10000 binary)\n",
      "Coefficient statistics:\n",
      "  Matrix range     [1e+00, 1e+00]\n",
      "  Objective range  [0e+00, 0e+00]\n",
      "  Bounds range     [1e+00, 1e+00]\n",
      "  RHS range        [1e+00, 1e+00]\n",
      "Found heuristic solution: objective -0.0000000\n",
      "\n",
      "Explored 0 nodes (0 simplex iterations) in 0.00 seconds\n",
      "Thread count was 1 (of 8 available processors)\n",
      "\n",
      "Solution count 1: -0 \n",
      "\n",
      "Optimal solution found (tolerance 1.00e-04)\n",
      "Best objective -0.000000000000e+00, best bound -0.000000000000e+00, gap 0.0000%\n"
     ]
    }
   ],
   "source": [
    "predicted_result = opt_match(predicted_edges_to_matrix(predicted_edges))"
   ]
  },
  {
   "cell_type": "code",
   "execution_count": 84,
   "metadata": {},
   "outputs": [
    {
     "data": {
      "text/plain": [
       "tensor(0.)"
      ]
     },
     "execution_count": 84,
     "metadata": {},
     "output_type": "execute_result"
    }
   ],
   "source": [
    "torch.sum(predicted_result * edge_mat)"
   ]
  },
  {
   "cell_type": "markdown",
   "metadata": {},
   "source": [
    "after training performance should improve"
   ]
  },
  {
   "cell_type": "code",
   "execution_count": 85,
   "metadata": {},
   "outputs": [
    {
     "data": {
      "text/plain": [
       "[<matplotlib.lines.Line2D at 0x7fc0301aa610>]"
      ]
     },
     "execution_count": 85,
     "metadata": {},
     "output_type": "execute_result"
    },
    {
     "data": {
      "image/png": "[encoded data removed]",
      "text/plain": [
       "<Figure size 432x288 with 1 Axes>"
      ]
     },
     "metadata": {
      "needs_background": "light"
     },
     "output_type": "display_data"
    }
   ],
   "source": [
    "optimizer = optim.Adam(model.parameters())\n",
    "criterion = nn.BCEWithLogitsLoss()\n",
    "losses = []\n",
    "for i in range(1000):\n",
    "    loss = trainbatch(model, criterion, optimizer, vecs, edges)\n",
    "    losses.append(loss)\n",
    "plt.plot(losses)"
   ]
  },
  {
   "cell_type": "code",
   "execution_count": 86,
   "metadata": {},
   "outputs": [
    {
     "name": "stdout",
     "output_type": "stream",
     "text": [
      "Optimize a model with 200 rows, 10000 columns and 20000 nonzeros\n",
      "Variable types: 0 continuous, 10000 integer (10000 binary)\n",
      "Coefficient statistics:\n",
      "  Matrix range     [1e+00, 1e+00]\n",
      "  Objective range  [1e+00, 1e+00]\n",
      "  Bounds range     [1e+00, 1e+00]\n",
      "  RHS range        [1e+00, 1e+00]\n",
      "Found heuristic solution: objective 91.0000000\n",
      "Presolve removed 10 rows and 5081 columns\n",
      "Presolve time: 0.03s\n",
      "Presolved: 190 rows, 4919 columns, 9838 nonzeros\n",
      "Variable types: 0 continuous, 4919 integer (4919 binary)\n",
      "\n",
      "Root relaxation: objective 9.600000e+01, 447 iterations, 0.01 seconds\n",
      "\n",
      "    Nodes    |    Current Node    |     Objective Bounds      |     Work\n",
      " Expl Unexpl |  Obj  Depth IntInf | Incumbent    BestBd   Gap | It/Node Time\n",
      "\n",
      "*    0     0               0      96.0000000   96.00000  0.00%     -    0s\n",
      "\n",
      "Explored 0 nodes (447 simplex iterations) in 0.06 seconds\n",
      "Thread count was 8 (of 8 available processors)\n",
      "\n",
      "Solution count 2: 96 91 \n",
      "\n",
      "Optimal solution found (tolerance 1.00e-04)\n",
      "Best objective 9.600000000000e+01, best bound 9.600000000000e+01, gap 0.0000%\n"
     ]
    },
    {
     "data": {
      "text/plain": [
       "tensor(92.)"
      ]
     },
     "execution_count": 86,
     "metadata": {},
     "output_type": "execute_result"
    }
   ],
   "source": [
    "trained_edges = (f.sigmoid(model(vecs)) > .5).float().detach()\n",
    "trained_result = opt_match(predicted_edges_to_matrix(trained_edges))\n",
    "torch.sum(trained_result * edge_mat)"
   ]
  },
  {
   "cell_type": "code",
   "execution_count": 87,
   "metadata": {},
   "outputs": [
    {
     "data": {
      "text/plain": [
       "<matplotlib.image.AxesImage at 0x7fc01c7a4ed0>"
      ]
     },
     "execution_count": 87,
     "metadata": {},
     "output_type": "execute_result"
    },
    {
     "data": {
      "image/png": "[encoded data removed]",
      "text/plain": [
       "<Figure size 432x288 with 1 Axes>"
      ]
     },
     "metadata": {
      "needs_background": "light"
     },
     "output_type": "display_data"
    }
   ],
   "source": [
    "plt.imshow(trained_result)"
   ]
  },
  {
   "cell_type": "code",
   "execution_count": 88,
   "metadata": {},
   "outputs": [
    {
     "data": {
      "text/plain": [
       "<matplotlib.image.AxesImage at 0x7fc0505fe9d0>"
      ]
     },
     "execution_count": 88,
     "metadata": {},
     "output_type": "execute_result"
    },
    {
     "data": {
      "image/png": "[encoded data removed]",
      "text/plain": [
       "<Figure size 432x288 with 1 Axes>"
      ]
     },
     "metadata": {
      "needs_background": "light"
     },
     "output_type": "display_data"
    }
   ],
   "source": [
    "plt.imshow(trained_result * edge_mat)"
   ]
  },
  {
   "cell_type": "markdown",
   "metadata": {},
   "source": [
    "## sinkhorn\n",
    "\n",
    "need to implement sinkhorn, as a function of input cost matrix and (at the moment) uniform marginals"
   ]
  },
  {
   "cell_type": "code",
   "execution_count": 117,
   "metadata": {},
   "outputs": [],
   "source": [
    "def sinkhorn_plan(weight_mat, eps=1e-2, rounds=5):\n",
    "    K = torch.exp(-weight_mat / eps)\n",
    "    l_n = weight_mat.shape[0]\n",
    "    r_n = weight_mat.shape[1]\n",
    "    a = torch.ones(l_n) / l_n\n",
    "    b = torch.ones(r_n) / r_n\n",
    "    g = torch.ones(l_n)\n",
    "    f = eps * (torch.log(a) - torch.log(K @ torch.exp(g / eps)))\n",
    "    g = eps * (torch.log(b) - torch.log(K.t() @ torch.exp(f / eps)))\n",
    "    for i in range(rounds):\n",
    "        f = eps * (torch.log(a) - torch.log(K @ torch.exp(g / eps)))\n",
    "        g = eps * (torch.log(b) - torch.log(K.t() @ torch.exp(f / eps)))\n",
    "    return torch.diag(torch.exp(f / eps)) @ K @ torch.diag(torch.exp(g / eps))\n",
    "    "
   ]
  },
  {
   "cell_type": "code",
   "execution_count": 118,
   "metadata": {},
   "outputs": [],
   "source": [
    "def sinkhorn_plan(weight_mat, eps=1e-2, rounds=5):\n",
    "    K = torch.exp(-weight_mat / eps)\n",
    "    l_n = weight_mat.shape[0]\n",
    "    r_n = weight_mat.shape[1]\n",
    "    a = torch.ones(l_n) / l_n\n",
    "    b = torch.ones(r_n) / r_n\n",
    "    v = torch.ones(l_n)\n",
    "    u = a / (K @ v)\n",
    "    v = b / (K.t() @ u)\n",
    "\n",
    "    for i in range(rounds):\n",
    "        u = a / (K @ v)\n",
    "        v = b / (K.t() @ u)\n",
    "\n",
    "    return torch.diag(u) @ K @ torch.diag(v)\n",
    "    "
   ]
  },
  {
   "cell_type": "markdown",
   "metadata": {},
   "source": [
    "## training model"
   ]
  },
  {
   "cell_type": "code",
   "execution_count": 119,
   "metadata": {},
   "outputs": [],
   "source": [
    "# model input: pairs of features\n",
    "# model output: a predicted edge weight [0,1] for each of them, which will be reshaped into the cost matrix"
   ]
  },
  {
   "cell_type": "code",
   "execution_count": 120,
   "metadata": {},
   "outputs": [],
   "source": [
    "def trainbatch_sinkhorn(model, optimizer, vecs, true_cost, device='cuda'):\n",
    "    model.train()\n",
    "    vecs.to(device)\n",
    "    model.zero_grad()\n",
    "    predicted_cost_mat = model(vecs).view(true_cost.shape[0], true_cost.shape[1])\n",
    "    predicted_matching = sinkhorn_plan(-predicted_cost_mat, eps=1e-1, rounds=5)\n",
    "    loss = -torch.sum(true_cost * predicted_matching)\n",
    "    save_loss = -loss.item()\n",
    "    loss.backward()\n",
    "    optimizer.step()\n",
    "    return save_loss\n",
    "    "
   ]
  },
  {
   "cell_type": "code",
   "execution_count": 121,
   "metadata": {},
   "outputs": [],
   "source": [
    "model = nn.Sequential(*[nn.Linear(dim*2, 128), nn.ReLU(), nn.Linear(128, 128), nn.ReLU(), nn.Linear(128, 1), nn.Sigmoid()])"
   ]
  },
  {
   "cell_type": "code",
   "execution_count": 122,
   "metadata": {},
   "outputs": [
    {
     "data": {
      "text/plain": [
       "[<matplotlib.lines.Line2D at 0x7fc0506f5410>]"
      ]
     },
     "execution_count": 122,
     "metadata": {},
     "output_type": "execute_result"
    },
    {
     "data": {
      "image/png": "[encoded data removed]",
      "text/plain": [
       "<Figure size 432x288 with 1 Axes>"
      ]
     },
     "metadata": {
      "needs_background": "light"
     },
     "output_type": "display_data"
    }
   ],
   "source": [
    "optimizer = optim.Adam(model.parameters())\n",
    "criterion = nn.BCEWithLogitsLoss()\n",
    "losses = []\n",
    "for i in range(1000):\n",
    "    loss = trainbatch_sinkhorn(model, optimizer, vecs, edge_mat)\n",
    "    losses.append(loss)\n",
    "plt.plot(losses)"
   ]
  },
  {
   "cell_type": "code",
   "execution_count": 123,
   "metadata": {},
   "outputs": [],
   "source": [
    "def get_final_predicted_mat(model, vecs, edge_mat):\n",
    "    soft_predictions = model(vecs).view(edge_mat.shape[0], edge_mat.shape[1]).detach()\n",
    "    hard_predictions = (f.one_hot(torch.max(soft_predictions, axis=0).indices, edge_mat.shape[0]).float())\n",
    "    return hard_predictions"
   ]
  },
  {
   "cell_type": "code",
   "execution_count": 127,
   "metadata": {},
   "outputs": [
    {
     "data": {
      "text/plain": [
       "tensor([[9.9993e-08, 4.7367e-07, 1.9030e-07,  ..., 2.8017e-07, 3.6855e-07,\n",
       "         5.1247e-07],\n",
       "        [3.8989e-08, 1.7670e-07, 7.7385e-08,  ..., 6.3846e-04, 1.4766e-04,\n",
       "         2.2166e-07],\n",
       "        [4.7366e-08, 2.3513e-07, 8.9948e-08,  ..., 1.3242e-07, 1.7419e-07,\n",
       "         5.6976e-07],\n",
       "        ...,\n",
       "        [7.2045e-04, 1.7710e-07, 1.3423e-03,  ..., 2.2859e-03, 1.3796e-07,\n",
       "         1.8958e-07],\n",
       "        [8.6613e-08, 2.9515e-07, 1.1857e-07,  ..., 1.7456e-07, 2.2963e-07,\n",
       "         3.1571e-07],\n",
       "        [2.7283e-05, 3.2344e-07, 1.3077e-07,  ..., 3.5778e-07, 3.4413e-07,\n",
       "         3.4620e-07]], grad_fn=<MmBackward>)"
      ]
     },
     "execution_count": 127,
     "metadata": {},
     "output_type": "execute_result"
    }
   ],
   "source": [
    "sinkhorn_plan(-model(vecs).view(edge_mat.shape[0], edge_mat.shape[1]), eps=1e-1)"
   ]
  },
  {
   "cell_type": "code",
   "execution_count": 132,
   "metadata": {},
   "outputs": [
    {
     "name": "stdout",
     "output_type": "stream",
     "text": [
      "Optimize a model with 200 rows, 10000 columns and 20000 nonzeros\n",
      "Variable types: 0 continuous, 10000 integer (10000 binary)\n",
      "Coefficient statistics:\n",
      "  Matrix range     [1e+00, 1e+00]\n",
      "  Objective range  [4e-15, 1e+00]\n",
      "  Bounds range     [1e+00, 1e+00]\n",
      "  RHS range        [1e+00, 1e+00]\n",
      "Found heuristic solution: objective 9.8427625\n",
      "Presolve removed 0 rows and 118 columns\n",
      "Presolve time: 0.03s\n",
      "Presolved: 200 rows, 9882 columns, 19764 nonzeros\n",
      "Variable types: 0 continuous, 9882 integer (9882 binary)\n",
      "\n",
      "Root relaxation: objective 9.787569e+01, 116 iterations, 0.01 seconds\n",
      "\n",
      "    Nodes    |    Current Node    |     Objective Bounds      |     Work\n",
      " Expl Unexpl |  Obj  Depth IntInf | Incumbent    BestBd   Gap | It/Node Time\n",
      "\n",
      "*    0     0               0      97.8756892   97.87569  0.00%     -    0s\n",
      "\n",
      "Explored 0 nodes (116 simplex iterations) in 0.06 seconds\n",
      "Thread count was 8 (of 8 available processors)\n",
      "\n",
      "Solution count 2: 97.8757 9.84276 \n",
      "\n",
      "Optimal solution found (tolerance 1.00e-04)\n",
      "Best objective 9.787568923496e+01, best bound 9.787568923496e+01, gap 0.0000%\n"
     ]
    },
    {
     "data": {
      "text/plain": [
       "tensor(95.)"
      ]
     },
     "execution_count": 132,
     "metadata": {},
     "output_type": "execute_result"
    }
   ],
   "source": [
    "trained_result = opt_match(model(vecs).view(edge_mat.shape[0], edge_mat.shape[1]).detach())\n",
    "torch.sum(trained_result * edge_mat)"
   ]
  },
  {
   "cell_type": "code",
   "execution_count": 133,
   "metadata": {},
   "outputs": [
    {
     "data": {
      "text/plain": [
       "<matplotlib.image.AxesImage at 0x7fc05065ed90>"
      ]
     },
     "execution_count": 133,
     "metadata": {},
     "output_type": "execute_result"
    },
    {
     "data": {
      "image/png": "[encoded data removed]",
      "text/plain": [
       "<Figure size 432x288 with 1 Axes>"
      ]
     },
     "metadata": {
      "needs_background": "light"
     },
     "output_type": "display_data"
    }
   ],
   "source": [
    "plt.imshow(trained_result)"
   ]
  },
  {
   "cell_type": "code",
   "execution_count": 134,
   "metadata": {},
   "outputs": [
    {
     "data": {
      "text/plain": [
       "<matplotlib.image.AxesImage at 0x7fc01c353f50>"
      ]
     },
     "execution_count": 134,
     "metadata": {},
     "output_type": "execute_result"
    },
    {
     "data": {
      "image/png": "[encoded data removed]",
      "text/plain": [
       "<Figure size 432x288 with 1 Axes>"
      ]
     },
     "metadata": {
      "needs_background": "light"
     },
     "output_type": "display_data"
    }
   ],
   "source": [
    "plt.imshow(trained_result * edge_mat)"
   ]
  },
  {
   "cell_type": "markdown",
   "metadata": {},
   "source": [
    "### future notes\n",
    "\n",
    "eventually we will need a case (for entropic matching) where many of the inputs are indistinguishable -- maybe just discrete and/or binary input features.\n",
    "\n",
    "should try hiding some of the true features\n",
    "\n",
    "eventually will need a more interesting function to predict edges"
   ]
  },
  {
   "cell_type": "code",
   "execution_count": null,
   "metadata": {},
   "outputs": [],
   "source": []
  }
 ],
 "metadata": {
  "kernelspec": {
   "display_name": "Python 3",
   "language": "python",
   "name": "python3"
  },
  "language_info": {
   "codemirror_mode": {
    "name": "ipython",
    "version": 3
   },
   "file_extension": ".py",
   "mimetype": "text/x-python",
   "name": "python",
   "nbconvert_exporter": "python",
   "pygments_lexer": "ipython3",
   "version": "3.7.4"
  }
 },
 "nbformat": 4,
 "nbformat_minor": 4
}
