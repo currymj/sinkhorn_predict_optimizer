{
 "cells": [
  {
   "cell_type": "code",
   "execution_count": 134,
   "metadata": {},
   "outputs": [],
   "source": [
    "%matplotlib inline\n",
    "import torch\n",
    "import numpy as np\n",
    "import matplotlib.pyplot as plt\n",
    "import torch.nn.functional as f\n",
    "import torch.nn as nn\n",
    "import torch.optim as optim"
   ]
  },
  {
   "cell_type": "markdown",
   "metadata": {},
   "source": [
    "# General approach\n",
    "\n",
    "The goal is to find a maximum-weight bipartite matching where the cost function is unknown and depends on features of the inputs. Additionally, we might want a matching that trades off optimality and diversity by way of entropy regularization -- conveniently, this is what Sinkhorn does.\n",
    "\n",
    "We have elements from the two sides $i, j$ with features $u_i, v_j$, the true cost is some $C^*_{ij}$, and we want to learn our own $C_{ij} = f(u_i, v_j; \\theta)$. In one interesting case many of the $C^*_{ij}$ may be 0, meaning these edges do not exist and should not be matched.\n",
    "\n",
    "Two approaches can be taken:\n",
    "\n",
    "1. Two-stage approach\n",
    "\n",
    "The two-stage approach is simple. One simply learns $f$ to predict the true observed $C^*_{ij}$ as well as possible, and then make matches based on the predictions of $f$. This approach should work well if $f$ can successfully learn the correct matching based on the features. There are some experimental details here -- which information exactly does $f$ get to observe -- do we get to see pairs of unmatched nodes, or only the actual matches made? $f$ here can be any learner.\n",
    "\n",
    "2. Predict-and-optimize approach\n",
    "\n",
    "The idea here is to still have $f$ output cost functions, but then pass these into a differentiable surrogate for the matching (Sinkhorn), and maximize the total weight of the observed matching. We expect this approach to win if $f$ cannot make perfect predictions. $f$ here must be a gradient based approach, i.e. a (shallow) NN."
   ]
  },
  {
   "cell_type": "markdown",
   "metadata": {},
   "source": [
    "# Some notes\n",
    "\n",
    "One advantage of this compared to the Wilder et al paper is that for a problem this simple, Sinkhorn is much nicer to deal with than their Gurobi nightmare or even qpth, and can stay on the GPU."
   ]
  },
  {
   "cell_type": "markdown",
   "metadata": {},
   "source": [
    "## first steps\n",
    "\n",
    "Consider the case where we either have edges or don't, and want to predict that from features only, in order to choose a maximum-weight matching."
   ]
  },
  {
   "cell_type": "code",
   "execution_count": 135,
   "metadata": {},
   "outputs": [],
   "source": [
    "dim = 10\n",
    "N = 100\n",
    "u_feats = torch.rand(N, dim)\n",
    "v_feats = torch.rand(N, dim)"
   ]
  },
  {
   "cell_type": "code",
   "execution_count": 136,
   "metadata": {},
   "outputs": [],
   "source": [
    "scores_mat = u_feats @ (v_feats.t())"
   ]
  },
  {
   "cell_type": "code",
   "execution_count": 137,
   "metadata": {},
   "outputs": [],
   "source": [
    "edge_mat = (scores_mat > 2.5).float()"
   ]
  },
  {
   "cell_type": "markdown",
   "metadata": {},
   "source": [
    "### training, batching, etc.\n",
    "\n",
    "first just train on dataset to get architecture up"
   ]
  },
  {
   "cell_type": "code",
   "execution_count": 138,
   "metadata": {},
   "outputs": [
    {
     "data": {
      "text/plain": [
       "Sequential(\n",
       "  (0): Linear(in_features=20, out_features=128, bias=True)\n",
       "  (1): ReLU()\n",
       "  (2): Linear(in_features=128, out_features=128, bias=True)\n",
       "  (3): ReLU()\n",
       "  (4): Linear(in_features=128, out_features=1, bias=True)\n",
       ")"
      ]
     },
     "execution_count": 138,
     "metadata": {},
     "output_type": "execute_result"
    }
   ],
   "source": [
    "model = nn.Sequential(*[nn.Linear(dim*2, 128), nn.ReLU(), nn.Linear(128, 128), nn.ReLU(), nn.Linear(128, 1)])\n",
    "model.train()"
   ]
  },
  {
   "cell_type": "code",
   "execution_count": 139,
   "metadata": {},
   "outputs": [],
   "source": [
    "optimizer = optim.Adam(model.parameters())\n",
    "criterion = nn.BCEWithLogitsLoss()"
   ]
  },
  {
   "cell_type": "code",
   "execution_count": 140,
   "metadata": {},
   "outputs": [],
   "source": [
    "def data_format(u, v, edges):\n",
    "    for i in range(u.shape[0]):\n",
    "        for j in range(v.shape[0]):\n",
    "            yield torch.cat((u[i,:], v[j,:])), edges[i, j]"
   ]
  },
  {
   "cell_type": "code",
   "execution_count": 141,
   "metadata": {},
   "outputs": [],
   "source": [
    "results = list(data_format(u_feats, v_feats, edge_mat))\n",
    "vecs = torch.stack([x[0] for x in results])\n",
    "edges = torch.stack([x[1] for x in results]).view(-1,1)"
   ]
  },
  {
   "cell_type": "code",
   "execution_count": 142,
   "metadata": {},
   "outputs": [],
   "source": [
    "def trainbatch(model, criterion, optimizer, vecs, edges, device='cuda'):\n",
    "    model.train()\n",
    "    vecs.to(device)\n",
    "    edges.to(device)\n",
    "    model.zero_grad()\n",
    "    out = model(vecs)\n",
    "    loss = criterion(out, edges)\n",
    "    save_loss = loss.item()\n",
    "    loss.backward()\n",
    "    optimizer.step()\n",
    "    return loss.item()\n",
    "    "
   ]
  },
  {
   "cell_type": "code",
   "execution_count": 143,
   "metadata": {},
   "outputs": [
    {
     "data": {
      "text/plain": [
       "[<matplotlib.lines.Line2D at 0x7f8e3d27eed0>]"
      ]
     },
     "execution_count": 143,
     "metadata": {},
     "output_type": "execute_result"
    },
    {
     "data": {
      "image/png": "[encoded data removed]",
      "text/plain": [
       "<Figure size 432x288 with 1 Axes>"
      ]
     },
     "metadata": {
      "needs_background": "light"
     },
     "output_type": "display_data"
    }
   ],
   "source": [
    "losses = []\n",
    "for i in range(1000):\n",
    "    loss = trainbatch(model, criterion, optimizer, vecs, edges)\n",
    "    losses.append(loss)\n",
    "plt.plot(losses)"
   ]
  },
  {
   "cell_type": "markdown",
   "metadata": {},
   "source": [
    "## optimization problem\n",
    "\n",
    "given our trained model, we want the scaffolding to go from a bunch of features to a bipartite matching solution"
   ]
  },
  {
   "cell_type": "code",
   "execution_count": 144,
   "metadata": {},
   "outputs": [],
   "source": [
    "def predicted_edges_to_matrix(edges):\n",
    "    dim = int(np.sqrt(edges.shape[0]))\n",
    "    return edges.view(dim, dim)"
   ]
  },
  {
   "cell_type": "code",
   "execution_count": 145,
   "metadata": {},
   "outputs": [
    {
     "data": {
      "text/plain": [
       "tensor([[1., 1., 1.,  ..., 1., 1., 0.],\n",
       "        [0., 0., 0.,  ..., 0., 0., 0.],\n",
       "        [1., 1., 0.,  ..., 1., 0., 0.],\n",
       "        ...,\n",
       "        [1., 1., 1.,  ..., 1., 0., 0.],\n",
       "        [1., 1., 1.,  ..., 1., 0., 0.],\n",
       "        [1., 1., 1.,  ..., 1., 1., 0.]])"
      ]
     },
     "execution_count": 145,
     "metadata": {},
     "output_type": "execute_result"
    }
   ],
   "source": [
    "edge_mat"
   ]
  },
  {
   "cell_type": "code",
   "execution_count": 146,
   "metadata": {},
   "outputs": [
    {
     "data": {
      "text/plain": [
       "tensor(True)"
      ]
     },
     "execution_count": 146,
     "metadata": {},
     "output_type": "execute_result"
    }
   ],
   "source": [
    "torch.all(predicted_edges_to_matrix(edges) == edge_mat)"
   ]
  },
  {
   "cell_type": "markdown",
   "metadata": {},
   "source": [
    "## bipartite matching\n",
    "\n",
    "given a cost (edge is special case) matrix, find the maximum weight bipartite matching at test time, optionally with an entropy penalty. Let's do this with Gurobi. Note Gurobi can't handle entropy in the objective!"
   ]
  },
  {
   "cell_type": "code",
   "execution_count": 164,
   "metadata": {},
   "outputs": [],
   "source": [
    "import gurobipy as gp\n",
    "\n",
    "def opt_match(cost_matrix):\n",
    "    # this will have to be modified to handle multiple similar items (integer not binary)\n",
    "    model = gp.Model()\n",
    "    x = {}\n",
    "    l_n = cost_matrix.shape[0]\n",
    "    r_n = cost_matrix.shape[1]\n",
    "    for i in range(l_n):\n",
    "        for j in range(r_n):\n",
    "            x[i, j] = model.addVar(vtype=gp.GRB.BINARY, name=f'x_{i}_{j}')\n",
    "    model.update()\n",
    "    match_once_constraints = []\n",
    "    for i in range(l_n):\n",
    "        match_once_constraints.append(\n",
    "            model.addConstr(gp.quicksum(x[i, j] for j in range(r_n)) <= 1))\n",
    "    for j in range(r_n):\n",
    "        match_once_constraints.append(\n",
    "            model.addConstr(gp.quicksum(x[i, j] for i in range(l_n)) <= 1))\n",
    "    obj = gp.QuadExpr()\n",
    "    for i in range(l_n):\n",
    "        for j in range(r_n):\n",
    "            obj += x[i,j] * cost_matrix[i,j].item()\n",
    "    model.setObjective(obj, gp.GRB.MAXIMIZE)\n",
    "    model.optimize()\n",
    "    model.update()\n",
    "    \n",
    "    result = torch.zeros_like(cost_matrix)\n",
    "    for i in range(l_n):\n",
    "        for j in range(r_n):\n",
    "            result[i, j] = x[i,j].x\n",
    "    return result\n",
    "    "
   ]
  },
  {
   "cell_type": "code",
   "execution_count": 165,
   "metadata": {},
   "outputs": [
    {
     "name": "stdout",
     "output_type": "stream",
     "text": [
      "Optimize a model with 200 rows, 10000 columns and 20000 nonzeros\n",
      "Variable types: 0 continuous, 10000 integer (10000 binary)\n",
      "Coefficient statistics:\n",
      "  Matrix range     [1e+00, 1e+00]\n",
      "  Objective range  [1e+00, 1e+00]\n",
      "  Bounds range     [1e+00, 1e+00]\n",
      "  RHS range        [1e+00, 1e+00]\n",
      "Found heuristic solution: objective 92.0000000\n",
      "Presolve removed 10 rows and 5321 columns\n",
      "Presolve time: 0.02s\n",
      "Presolved: 190 rows, 4679 columns, 9358 nonzeros\n",
      "Variable types: 0 continuous, 4679 integer (4679 binary)\n",
      "\n",
      "Root relaxation: objective 9.300000e+01, 445 iterations, 0.01 seconds\n",
      "\n",
      "    Nodes    |    Current Node    |     Objective Bounds      |     Work\n",
      " Expl Unexpl |  Obj  Depth IntInf | Incumbent    BestBd   Gap | It/Node Time\n",
      "\n",
      "*    0     0               0      93.0000000   93.00000  0.00%     -    0s\n",
      "\n",
      "Explored 0 nodes (445 simplex iterations) in 0.03 seconds\n",
      "Thread count was 8 (of 8 available processors)\n",
      "\n",
      "Solution count 2: 93 92 \n",
      "\n",
      "Optimal solution found (tolerance 1.00e-04)\n",
      "Best objective 9.300000000000e+01, best bound 9.300000000000e+01, gap 0.0000%\n"
     ]
    }
   ],
   "source": [
    "result = opt_match(edge_mat)"
   ]
  },
  {
   "cell_type": "code",
   "execution_count": 166,
   "metadata": {},
   "outputs": [],
   "source": [
    "score = torch.sum(result * edge_mat)"
   ]
  },
  {
   "cell_type": "markdown",
   "metadata": {},
   "source": [
    "random model should make wrong predictions leading to poor performance"
   ]
  },
  {
   "cell_type": "code",
   "execution_count": 170,
   "metadata": {},
   "outputs": [
    {
     "data": {
      "text/plain": [
       "Sequential(\n",
       "  (0): Linear(in_features=20, out_features=128, bias=True)\n",
       "  (1): ReLU()\n",
       "  (2): Linear(in_features=128, out_features=128, bias=True)\n",
       "  (3): ReLU()\n",
       "  (4): Linear(in_features=128, out_features=1, bias=True)\n",
       ")"
      ]
     },
     "execution_count": 170,
     "metadata": {},
     "output_type": "execute_result"
    }
   ],
   "source": [
    "model = nn.Sequential(*[nn.Linear(dim*2, 128), nn.ReLU(), nn.Linear(128, 128), nn.ReLU(), nn.Linear(128, 1)])\n",
    "model.eval()"
   ]
  },
  {
   "cell_type": "code",
   "execution_count": 194,
   "metadata": {},
   "outputs": [],
   "source": [
    "predicted_edges = (f.sigmoid(model(vecs)) > .5).float().detach()"
   ]
  },
  {
   "cell_type": "code",
   "execution_count": 196,
   "metadata": {},
   "outputs": [
    {
     "name": "stdout",
     "output_type": "stream",
     "text": [
      "Optimize a model with 200 rows, 10000 columns and 20000 nonzeros\n",
      "Variable types: 0 continuous, 10000 integer (10000 binary)\n",
      "Coefficient statistics:\n",
      "  Matrix range     [1e+00, 1e+00]\n",
      "  Objective range  [1e+00, 1e+00]\n",
      "  Bounds range     [1e+00, 1e+00]\n",
      "  RHS range        [1e+00, 1e+00]\n",
      "Found heuristic solution: objective 99.0000000\n",
      "Presolve removed 0 rows and 746 columns\n",
      "Presolve time: 0.01s\n",
      "Presolved: 200 rows, 9254 columns, 18508 nonzeros\n",
      "Variable types: 0 continuous, 9254 integer (9254 binary)\n",
      "\n",
      "Root relaxation: objective 1.000000e+02, 316 iterations, 0.01 seconds\n",
      "\n",
      "    Nodes    |    Current Node    |     Objective Bounds      |     Work\n",
      " Expl Unexpl |  Obj  Depth IntInf | Incumbent    BestBd   Gap | It/Node Time\n",
      "\n",
      "*    0     0               0     100.0000000  100.00000  0.00%     -    0s\n",
      "\n",
      "Explored 0 nodes (316 simplex iterations) in 0.04 seconds\n",
      "Thread count was 8 (of 8 available processors)\n",
      "\n",
      "Solution count 2: 100 99 \n",
      "\n",
      "Optimal solution found (tolerance 1.00e-04)\n",
      "Best objective 1.000000000000e+02, best bound 1.000000000000e+02, gap 0.0000%\n"
     ]
    }
   ],
   "source": [
    "predicted_result = opt_match(predicted_edges_to_matrix(predicted_edges))"
   ]
  },
  {
   "cell_type": "code",
   "execution_count": 197,
   "metadata": {},
   "outputs": [
    {
     "data": {
      "text/plain": [
       "tensor(42.)"
      ]
     },
     "execution_count": 197,
     "metadata": {},
     "output_type": "execute_result"
    }
   ],
   "source": [
    "torch.sum(predicted_result * edge_mat)"
   ]
  },
  {
   "cell_type": "markdown",
   "metadata": {},
   "source": [
    "after training performance should improve"
   ]
  },
  {
   "cell_type": "code",
   "execution_count": 199,
   "metadata": {},
   "outputs": [
    {
     "data": {
      "text/plain": [
       "[<matplotlib.lines.Line2D at 0x7f8dd0f571d0>]"
      ]
     },
     "execution_count": 199,
     "metadata": {},
     "output_type": "execute_result"
    },
    {
     "data": {
      "image/png": "[encoded data removed]",
      "text/plain": [
       "<Figure size 432x288 with 1 Axes>"
      ]
     },
     "metadata": {
      "needs_background": "light"
     },
     "output_type": "display_data"
    }
   ],
   "source": [
    "optimizer = optim.Adam(model.parameters())\n",
    "criterion = nn.BCEWithLogitsLoss()\n",
    "losses = []\n",
    "for i in range(1000):\n",
    "    loss = trainbatch(model, criterion, optimizer, vecs, edges)\n",
    "    losses.append(loss)\n",
    "plt.plot(losses)"
   ]
  },
  {
   "cell_type": "code",
   "execution_count": 200,
   "metadata": {},
   "outputs": [
    {
     "name": "stdout",
     "output_type": "stream",
     "text": [
      "Optimize a model with 200 rows, 10000 columns and 20000 nonzeros\n",
      "Variable types: 0 continuous, 10000 integer (10000 binary)\n",
      "Coefficient statistics:\n",
      "  Matrix range     [1e+00, 1e+00]\n",
      "  Objective range  [1e+00, 1e+00]\n",
      "  Bounds range     [1e+00, 1e+00]\n",
      "  RHS range        [1e+00, 1e+00]\n",
      "Found heuristic solution: objective 92.0000000\n",
      "Presolve removed 13 rows and 5502 columns\n",
      "Presolve time: 0.03s\n",
      "Presolved: 187 rows, 4498 columns, 8996 nonzeros\n",
      "Variable types: 0 continuous, 4498 integer (4498 binary)\n",
      "\n",
      "Root relaxation: objective 9.300000e+01, 455 iterations, 0.01 seconds\n",
      "\n",
      "    Nodes    |    Current Node    |     Objective Bounds      |     Work\n",
      " Expl Unexpl |  Obj  Depth IntInf | Incumbent    BestBd   Gap | It/Node Time\n",
      "\n",
      "*    0     0               0      93.0000000   93.00000  0.00%     -    0s\n",
      "\n",
      "Explored 0 nodes (455 simplex iterations) in 0.06 seconds\n",
      "Thread count was 8 (of 8 available processors)\n",
      "\n",
      "Solution count 2: 93 92 \n",
      "\n",
      "Optimal solution found (tolerance 1.00e-04)\n",
      "Best objective 9.300000000000e+01, best bound 9.300000000000e+01, gap 0.0000%\n"
     ]
    },
    {
     "data": {
      "text/plain": [
       "tensor(87.)"
      ]
     },
     "execution_count": 200,
     "metadata": {},
     "output_type": "execute_result"
    }
   ],
   "source": [
    "trained_edges = (f.sigmoid(model(vecs)) > .5).float().detach()\n",
    "trained_result = opt_match(predicted_edges_to_matrix(trained_edges))\n",
    "torch.sum(trained_result * edge_mat)"
   ]
  },
  {
   "cell_type": "markdown",
   "metadata": {},
   "source": [
    "## sinkhorn\n",
    "\n",
    "need to implement sinkhorn, as a function of input cost matrix and (at the moment) uniform marginals"
   ]
  },
  {
   "cell_type": "code",
   "execution_count": 334,
   "metadata": {},
   "outputs": [],
   "source": [
    "def sinkhorn_plan(weight_mat, eps=1e-1, rounds=5):\n",
    "    K = torch.exp(-weight_mat / eps)\n",
    "    l_n = weight_mat.shape[0]\n",
    "    r_n = weight_mat.shape[1]\n",
    "    a = torch.ones(l_n) / l_n\n",
    "    b = torch.ones(r_n) / r_n\n",
    "    g = torch.ones(l_n)\n",
    "    f = eps * (torch.log(a) - torch.log(K @ torch.exp(g / eps)))\n",
    "    g = eps * (torch.log(b) - torch.log(K.t() @ torch.exp(f / eps)))\n",
    "    for i in range(rounds):\n",
    "        f = eps * (torch.log(a) - torch.log(K @ torch.exp(g / eps)))\n",
    "        g = eps * (torch.log(b) - torch.log(K.t() @ torch.exp(f / eps)))\n",
    "    return torch.diag(torch.exp(f / eps)) @ K @ torch.diag(torch.exp(g / eps))\n",
    "    "
   ]
  },
  {
   "cell_type": "code",
   "execution_count": 335,
   "metadata": {},
   "outputs": [],
   "source": [
    "def sinkhorn_plan(weight_mat, eps=1e-2, rounds=5):\n",
    "    K = torch.exp(-weight_mat / eps)\n",
    "    l_n = weight_mat.shape[0]\n",
    "    r_n = weight_mat.shape[1]\n",
    "    a = torch.ones(l_n) / l_n\n",
    "    b = torch.ones(r_n) / r_n\n",
    "    v = torch.ones(l_n)\n",
    "    u = a / (K @ v)\n",
    "    v = b / (K.t() @ u)\n",
    "\n",
    "    for i in range(rounds):\n",
    "        u = a / (K @ v)\n",
    "        v = b / (K.t() @ u)\n",
    "\n",
    "    return torch.diag(u) @ K @ torch.diag(v)\n",
    "    "
   ]
  },
  {
   "cell_type": "code",
   "execution_count": 350,
   "metadata": {},
   "outputs": [],
   "source": [
    "pl=sinkhorn_plan(-edge_mat*0.1, eps=5e-3, rounds=100)"
   ]
  },
  {
   "cell_type": "code",
   "execution_count": 351,
   "metadata": {},
   "outputs": [
    {
     "data": {
      "text/plain": [
       "tensor([0.0100, 0.0100, 0.0100, 0.0100, 0.0100, 0.0100, 0.0100, 0.0100, 0.0100,\n",
       "        0.0100, 0.0100, 0.0100, 0.0100, 0.0100, 0.0100, 0.0100, 0.0100, 0.0100,\n",
       "        0.0100, 0.0100, 0.0100, 0.0100, 0.0100, 0.0100, 0.0100, 0.0100, 0.0100,\n",
       "        0.0100, 0.0100, 0.0100, 0.0100, 0.0100, 0.0100, 0.0100, 0.0100, 0.0100,\n",
       "        0.0100, 0.0100, 0.0100, 0.0100, 0.0100, 0.0100, 0.0100, 0.0100, 0.0100,\n",
       "        0.0100, 0.0100, 0.0100, 0.0100, 0.0100, 0.0100, 0.0100, 0.0100, 0.0100,\n",
       "        0.0100, 0.0100, 0.0100, 0.0100, 0.0100, 0.0100, 0.0100, 0.0100, 0.0100,\n",
       "        0.0100, 0.0100, 0.0100, 0.0100, 0.0100, 0.0100, 0.0100, 0.0100, 0.0100,\n",
       "        0.0100, 0.0100, 0.0100, 0.0100, 0.0100, 0.0100, 0.0100, 0.0100, 0.0100,\n",
       "        0.0100, 0.0100, 0.0100, 0.0100, 0.0100, 0.0100, 0.0100, 0.0100, 0.0100,\n",
       "        0.0100, 0.0100, 0.0100, 0.0100, 0.0100, 0.0100, 0.0100, 0.0100, 0.0100,\n",
       "        0.0100])"
      ]
     },
     "execution_count": 351,
     "metadata": {},
     "output_type": "execute_result"
    }
   ],
   "source": [
    "torch.sum(pl, axis=1)"
   ]
  },
  {
   "cell_type": "code",
   "execution_count": 352,
   "metadata": {},
   "outputs": [
    {
     "data": {
      "text/plain": [
       "tensor([0.2000, 0.2000, 0.2000, 0.2000, 0.2000])"
      ]
     },
     "execution_count": 352,
     "metadata": {},
     "output_type": "execute_result"
    }
   ],
   "source": [
    "torch.ones(5)/5"
   ]
  },
  {
   "cell_type": "code",
   "execution_count": 370,
   "metadata": {},
   "outputs": [],
   "source": [
    "sinkhorn_hardmax = (f.one_hot(torch.max(pl, axis=0).indices, 100).float())"
   ]
  },
  {
   "cell_type": "code",
   "execution_count": 371,
   "metadata": {},
   "outputs": [
    {
     "data": {
      "text/plain": [
       "tensor(46.)"
      ]
     },
     "execution_count": 371,
     "metadata": {},
     "output_type": "execute_result"
    }
   ],
   "source": [
    "(sinkhorn_hardmax * edge_mat).sum()"
   ]
  },
  {
   "cell_type": "code",
   "execution_count": 362,
   "metadata": {},
   "outputs": [
    {
     "data": {
      "text/plain": [
       "<matplotlib.image.AxesImage at 0x7f8dd024dc90>"
      ]
     },
     "execution_count": 362,
     "metadata": {},
     "output_type": "execute_result"
    },
    {
     "data": {
      "image/png": "[encoded data removed]",
      "text/plain": [
       "<Figure size 432x288 with 1 Axes>"
      ]
     },
     "metadata": {
      "needs_background": "light"
     },
     "output_type": "display_data"
    }
   ],
   "source": [
    "plt.imshow(trained_result)"
   ]
  },
  {
   "cell_type": "markdown",
   "metadata": {},
   "source": [
    "### future notes\n",
    "\n",
    "eventually we will need a case (for entropic matching) where many of the inputs are indistinguishable -- maybe just discrete and/or binary input features.\n",
    "\n",
    "should try hiding some of the true features\n",
    "\n",
    "eventually will need a more interesting function to predict edges"
   ]
  },
  {
   "cell_type": "code",
   "execution_count": null,
   "metadata": {},
   "outputs": [],
   "source": []
  }
 ],
 "metadata": {
  "kernelspec": {
   "display_name": "Python 3",
   "language": "python",
   "name": "python3"
  },
  "language_info": {
   "codemirror_mode": {
    "name": "ipython",
    "version": 3
   },
   "file_extension": ".py",
   "mimetype": "text/x-python",
   "name": "python",
   "nbconvert_exporter": "python",
   "pygments_lexer": "ipython3",
   "version": "3.7.4"
  }
 },
 "nbformat": 4,
 "nbformat_minor": 4
}
